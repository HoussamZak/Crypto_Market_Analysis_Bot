{
 "cells": [
  {
   "cell_type": "code",
   "execution_count": 2,
   "metadata": {},
   "outputs": [],
   "source": [
    "# Libraries\n",
    "\n",
    "import websocket\n",
    "import json\n",
    "import pandas as pd\n",
    "from binance.client import Client\n",
    "from pandas.tseries.offsets import MonthEnd\n",
    "from sqlalchemy import create_engine\n",
    "\n",
    "import pymysql\n",
    "\n",
    "# sleep function to avoid overloading API\n",
    "from time import sleep"
   ]
  },
  {
   "cell_type": "code",
   "execution_count": 3,
   "metadata": {},
   "outputs": [],
   "source": [
    "# Binance client initalization\n",
    "client = Client()"
   ]
  },
  {
   "cell_type": "code",
   "execution_count": 4,
   "metadata": {},
   "outputs": [],
   "source": [
    "# Defining sql Engine, our connection to sqlLite\n",
    "# Engine to write and pull data with SQLLite\n",
    "\n",
    "# functioning engine\n",
    "# engine = create_engine('mysql+pymysql://root:')\n",
    "engine = create_engine(R'sqlite:///C:\\Users\\hp\\Desktop\\Projects Coding\\Crypto_Market_Analysis_Bot\\\\COINS_DATA.db', echo=True)\n",
    "\n",
    "\n",
    "# testing engine\n",
    "# engine = create_engine('sqlite:///Cointest.db')"
   ]
  },
  {
   "cell_type": "code",
   "execution_count": 5,
   "metadata": {},
   "outputs": [],
   "source": [
    "# Function to fetch data for each coin from binance\n",
    "\n",
    "def getdata(symbol, start):\n",
    "\n",
    "    end = str(pd.to_datetime(start) + MonthEnd(0))\n",
    "    frame = pd.DataFrame(client.get_historical_klines(symbol, '1m', start))\n",
    "    frame = frame.iloc[:,:6]\n",
    "    frame.columns = ['Time', 'Open', 'High', 'Low', 'Close', 'Volume']\n",
    "    frame.set_index('Time', inplace = True) \n",
    "    frame.index = pd.to_datetime(frame.index, unit = 'ms')\n",
    "    frame = frame.astype(float)\n",
    "    return frame"
   ]
  },
  {
   "cell_type": "code",
   "execution_count": 6,
   "metadata": {},
   "outputs": [],
   "source": [
    "# Testing getdata function\n",
    "df = getdata('BTCUSDT', 'December 1 2022')"
   ]
  },
  {
   "cell_type": "code",
   "execution_count": 14,
   "metadata": {},
   "outputs": [
    {
     "data": {
      "text/html": [
       "<div>\n",
       "<style scoped>\n",
       "    .dataframe tbody tr th:only-of-type {\n",
       "        vertical-align: middle;\n",
       "    }\n",
       "\n",
       "    .dataframe tbody tr th {\n",
       "        vertical-align: top;\n",
       "    }\n",
       "\n",
       "    .dataframe thead th {\n",
       "        text-align: right;\n",
       "    }\n",
       "</style>\n",
       "<table border=\"1\" class=\"dataframe\">\n",
       "  <thead>\n",
       "    <tr style=\"text-align: right;\">\n",
       "      <th></th>\n",
       "      <th>Open</th>\n",
       "      <th>High</th>\n",
       "      <th>Low</th>\n",
       "      <th>Close</th>\n",
       "      <th>Volume</th>\n",
       "    </tr>\n",
       "    <tr>\n",
       "      <th>Time</th>\n",
       "      <th></th>\n",
       "      <th></th>\n",
       "      <th></th>\n",
       "      <th></th>\n",
       "      <th></th>\n",
       "    </tr>\n",
       "  </thead>\n",
       "  <tbody>\n",
       "    <tr>\n",
       "      <th>2022-12-08 20:28:00</th>\n",
       "      <td>17220.25</td>\n",
       "      <td>17222.35</td>\n",
       "      <td>17216.93</td>\n",
       "      <td>17221.98</td>\n",
       "      <td>179.11093</td>\n",
       "    </tr>\n",
       "    <tr>\n",
       "      <th>2022-12-08 20:29:00</th>\n",
       "      <td>17221.98</td>\n",
       "      <td>17222.61</td>\n",
       "      <td>17208.96</td>\n",
       "      <td>17210.86</td>\n",
       "      <td>214.72006</td>\n",
       "    </tr>\n",
       "    <tr>\n",
       "      <th>2022-12-08 20:30:00</th>\n",
       "      <td>17210.85</td>\n",
       "      <td>17230.00</td>\n",
       "      <td>17209.79</td>\n",
       "      <td>17226.11</td>\n",
       "      <td>263.37162</td>\n",
       "    </tr>\n",
       "    <tr>\n",
       "      <th>2022-12-08 20:31:00</th>\n",
       "      <td>17225.45</td>\n",
       "      <td>17230.72</td>\n",
       "      <td>17222.17</td>\n",
       "      <td>17224.32</td>\n",
       "      <td>143.61547</td>\n",
       "    </tr>\n",
       "    <tr>\n",
       "      <th>2022-12-08 20:32:00</th>\n",
       "      <td>17224.32</td>\n",
       "      <td>17224.64</td>\n",
       "      <td>17209.30</td>\n",
       "      <td>17209.31</td>\n",
       "      <td>120.93537</td>\n",
       "    </tr>\n",
       "    <tr>\n",
       "      <th>2022-12-08 20:33:00</th>\n",
       "      <td>17209.85</td>\n",
       "      <td>17210.74</td>\n",
       "      <td>17199.92</td>\n",
       "      <td>17206.26</td>\n",
       "      <td>193.02434</td>\n",
       "    </tr>\n",
       "    <tr>\n",
       "      <th>2022-12-08 20:34:00</th>\n",
       "      <td>17206.25</td>\n",
       "      <td>17210.45</td>\n",
       "      <td>17201.47</td>\n",
       "      <td>17201.98</td>\n",
       "      <td>101.77985</td>\n",
       "    </tr>\n",
       "    <tr>\n",
       "      <th>2022-12-08 20:35:00</th>\n",
       "      <td>17202.67</td>\n",
       "      <td>17206.50</td>\n",
       "      <td>17198.31</td>\n",
       "      <td>17205.97</td>\n",
       "      <td>142.04144</td>\n",
       "    </tr>\n",
       "    <tr>\n",
       "      <th>2022-12-08 20:36:00</th>\n",
       "      <td>17205.97</td>\n",
       "      <td>17216.96</td>\n",
       "      <td>17204.71</td>\n",
       "      <td>17210.10</td>\n",
       "      <td>134.47562</td>\n",
       "    </tr>\n",
       "    <tr>\n",
       "      <th>2022-12-08 20:37:00</th>\n",
       "      <td>17210.10</td>\n",
       "      <td>17211.29</td>\n",
       "      <td>17200.03</td>\n",
       "      <td>17200.78</td>\n",
       "      <td>72.78438</td>\n",
       "    </tr>\n",
       "  </tbody>\n",
       "</table>\n",
       "</div>"
      ],
      "text/plain": [
       "                         Open      High       Low     Close     Volume\n",
       "Time                                                                  \n",
       "2022-12-08 20:28:00  17220.25  17222.35  17216.93  17221.98  179.11093\n",
       "2022-12-08 20:29:00  17221.98  17222.61  17208.96  17210.86  214.72006\n",
       "2022-12-08 20:30:00  17210.85  17230.00  17209.79  17226.11  263.37162\n",
       "2022-12-08 20:31:00  17225.45  17230.72  17222.17  17224.32  143.61547\n",
       "2022-12-08 20:32:00  17224.32  17224.64  17209.30  17209.31  120.93537\n",
       "2022-12-08 20:33:00  17209.85  17210.74  17199.92  17206.26  193.02434\n",
       "2022-12-08 20:34:00  17206.25  17210.45  17201.47  17201.98  101.77985\n",
       "2022-12-08 20:35:00  17202.67  17206.50  17198.31  17205.97  142.04144\n",
       "2022-12-08 20:36:00  17205.97  17216.96  17204.71  17210.10  134.47562\n",
       "2022-12-08 20:37:00  17210.10  17211.29  17200.03  17200.78   72.78438"
      ]
     },
     "execution_count": 14,
     "metadata": {},
     "output_type": "execute_result"
    }
   ],
   "source": [
    "df.tail(10)"
   ]
  },
  {
   "cell_type": "code",
   "execution_count": 7,
   "metadata": {},
   "outputs": [],
   "source": [
    "coins = ('BTCUSDT', 'ETHUSDT', 'BNBUSDT', 'SOLUSDT', 'ADAUSDT', \n",
    "        'XRPUSDT' , 'DOTUSDT', 'LUNAUSDT', 'DOEGUSDT', 'AVAXUSDT',\n",
    "        'SHIBUSDT', 'MATICUSDT', 'LTCUSDT', 'UNIUSDT', 'ALGOUSDT', 'TRXUSDT', \n",
    "        'LINKUSDT', 'MANAUSDT', 'ATOMUSDT', 'VETUSDT')"
   ]
  },
  {
   "cell_type": "code",
   "execution_count": 8,
   "metadata": {},
   "outputs": [],
   "source": [
    "daterange = pd.date_range('September 01 2022', pd.to_datetime('today'), freq='MS')"
   ]
  },
  {
   "cell_type": "code",
   "execution_count": 11,
   "metadata": {},
   "outputs": [
    {
     "name": "stdout",
     "output_type": "stream",
     "text": [
      "2022-12-08 15:42:03,665 INFO sqlalchemy.engine.Engine CREATE DATABASE CoinIntra\n",
      "2022-12-08 15:42:03,668 INFO sqlalchemy.engine.Engine [raw sql] ()\n",
      "2022-12-08 15:42:03,674 INFO sqlalchemy.engine.Engine ROLLBACK\n"
     ]
    },
    {
     "ename": "OperationalError",
     "evalue": "(sqlite3.OperationalError) near \"DATABASE\": syntax error\n[SQL: CREATE DATABASE CoinIntra]\n(Background on this error at: https://sqlalche.me/e/14/e3q8)",
     "output_type": "error",
     "traceback": [
      "\u001b[1;31m---------------------------------------------------------------------------\u001b[0m",
      "\u001b[1;31mOperationalError\u001b[0m                          Traceback (most recent call last)",
      "File \u001b[1;32mc:\\Users\\hp\\AppData\\Local\\Programs\\Python\\Python310\\lib\\site-packages\\sqlalchemy\\engine\\base.py:1900\u001b[0m, in \u001b[0;36mConnection._execute_context\u001b[1;34m(self, dialect, constructor, statement, parameters, execution_options, *args, **kw)\u001b[0m\n\u001b[0;32m   1899\u001b[0m     \u001b[39mif\u001b[39;00m \u001b[39mnot\u001b[39;00m evt_handled:\n\u001b[1;32m-> 1900\u001b[0m         \u001b[39mself\u001b[39;49m\u001b[39m.\u001b[39;49mdialect\u001b[39m.\u001b[39;49mdo_execute(\n\u001b[0;32m   1901\u001b[0m             cursor, statement, parameters, context\n\u001b[0;32m   1902\u001b[0m         )\n\u001b[0;32m   1904\u001b[0m \u001b[39mif\u001b[39;00m \u001b[39mself\u001b[39m\u001b[39m.\u001b[39m_has_events \u001b[39mor\u001b[39;00m \u001b[39mself\u001b[39m\u001b[39m.\u001b[39mengine\u001b[39m.\u001b[39m_has_events:\n",
      "File \u001b[1;32mc:\\Users\\hp\\AppData\\Local\\Programs\\Python\\Python310\\lib\\site-packages\\sqlalchemy\\engine\\default.py:736\u001b[0m, in \u001b[0;36mDefaultDialect.do_execute\u001b[1;34m(self, cursor, statement, parameters, context)\u001b[0m\n\u001b[0;32m    735\u001b[0m \u001b[39mdef\u001b[39;00m \u001b[39mdo_execute\u001b[39m(\u001b[39mself\u001b[39m, cursor, statement, parameters, context\u001b[39m=\u001b[39m\u001b[39mNone\u001b[39;00m):\n\u001b[1;32m--> 736\u001b[0m     cursor\u001b[39m.\u001b[39;49mexecute(statement, parameters)\n",
      "\u001b[1;31mOperationalError\u001b[0m: near \"DATABASE\": syntax error",
      "\nThe above exception was the direct cause of the following exception:\n",
      "\u001b[1;31mOperationalError\u001b[0m                          Traceback (most recent call last)",
      "Cell \u001b[1;32mIn[11], line 1\u001b[0m\n\u001b[1;32m----> 1\u001b[0m engine\u001b[39m.\u001b[39;49mexecute(\u001b[39m'\u001b[39;49m\u001b[39mCREATE DATABASE CoinIntra\u001b[39;49m\u001b[39m'\u001b[39;49m)\n",
      "File \u001b[1;32m<string>:2\u001b[0m, in \u001b[0;36mexecute\u001b[1;34m(self, statement, *multiparams, **params)\u001b[0m\n",
      "File \u001b[1;32mc:\\Users\\hp\\AppData\\Local\\Programs\\Python\\Python310\\lib\\site-packages\\sqlalchemy\\util\\deprecations.py:402\u001b[0m, in \u001b[0;36m_decorate_with_warning.<locals>.warned\u001b[1;34m(fn, *args, **kwargs)\u001b[0m\n\u001b[0;32m    400\u001b[0m \u001b[39mif\u001b[39;00m \u001b[39mnot\u001b[39;00m skip_warning:\n\u001b[0;32m    401\u001b[0m     _warn_with_version(message, version, wtype, stacklevel\u001b[39m=\u001b[39m\u001b[39m3\u001b[39m)\n\u001b[1;32m--> 402\u001b[0m \u001b[39mreturn\u001b[39;00m fn(\u001b[39m*\u001b[39margs, \u001b[39m*\u001b[39m\u001b[39m*\u001b[39mkwargs)\n",
      "File \u001b[1;32mc:\\Users\\hp\\AppData\\Local\\Programs\\Python\\Python310\\lib\\site-packages\\sqlalchemy\\engine\\base.py:3257\u001b[0m, in \u001b[0;36mEngine.execute\u001b[1;34m(self, statement, *multiparams, **params)\u001b[0m\n\u001b[0;32m   3239\u001b[0m \u001b[39m\"\"\"Executes the given construct and returns a\u001b[39;00m\n\u001b[0;32m   3240\u001b[0m \u001b[39m:class:`_engine.CursorResult`.\u001b[39;00m\n\u001b[0;32m   3241\u001b[0m \n\u001b[1;32m   (...)\u001b[0m\n\u001b[0;32m   3254\u001b[0m \n\u001b[0;32m   3255\u001b[0m \u001b[39m\"\"\"\u001b[39;00m\n\u001b[0;32m   3256\u001b[0m connection \u001b[39m=\u001b[39m \u001b[39mself\u001b[39m\u001b[39m.\u001b[39mconnect(close_with_result\u001b[39m=\u001b[39m\u001b[39mTrue\u001b[39;00m)\n\u001b[1;32m-> 3257\u001b[0m \u001b[39mreturn\u001b[39;00m connection\u001b[39m.\u001b[39mexecute(statement, \u001b[39m*\u001b[39mmultiparams, \u001b[39m*\u001b[39m\u001b[39m*\u001b[39mparams)\n",
      "File \u001b[1;32mc:\\Users\\hp\\AppData\\Local\\Programs\\Python\\Python310\\lib\\site-packages\\sqlalchemy\\engine\\base.py:1365\u001b[0m, in \u001b[0;36mConnection.execute\u001b[1;34m(self, statement, *multiparams, **params)\u001b[0m\n\u001b[0;32m   1356\u001b[0m \u001b[39mif\u001b[39;00m \u001b[39misinstance\u001b[39m(statement, util\u001b[39m.\u001b[39mstring_types):\n\u001b[0;32m   1357\u001b[0m     util\u001b[39m.\u001b[39mwarn_deprecated_20(\n\u001b[0;32m   1358\u001b[0m         \u001b[39m\"\u001b[39m\u001b[39mPassing a string to Connection.execute() is \u001b[39m\u001b[39m\"\u001b[39m\n\u001b[0;32m   1359\u001b[0m         \u001b[39m\"\u001b[39m\u001b[39mdeprecated and will be removed in version 2.0.  Use the \u001b[39m\u001b[39m\"\u001b[39m\n\u001b[1;32m   (...)\u001b[0m\n\u001b[0;32m   1362\u001b[0m         \u001b[39m\"\u001b[39m\u001b[39mdriver-level SQL string.\u001b[39m\u001b[39m\"\u001b[39m\n\u001b[0;32m   1363\u001b[0m     )\n\u001b[1;32m-> 1365\u001b[0m     \u001b[39mreturn\u001b[39;00m \u001b[39mself\u001b[39;49m\u001b[39m.\u001b[39;49m_exec_driver_sql(\n\u001b[0;32m   1366\u001b[0m         statement,\n\u001b[0;32m   1367\u001b[0m         multiparams,\n\u001b[0;32m   1368\u001b[0m         params,\n\u001b[0;32m   1369\u001b[0m         _EMPTY_EXECUTION_OPTS,\n\u001b[0;32m   1370\u001b[0m         future\u001b[39m=\u001b[39;49m\u001b[39mFalse\u001b[39;49;00m,\n\u001b[0;32m   1371\u001b[0m     )\n\u001b[0;32m   1373\u001b[0m \u001b[39mtry\u001b[39;00m:\n\u001b[0;32m   1374\u001b[0m     meth \u001b[39m=\u001b[39m statement\u001b[39m.\u001b[39m_execute_on_connection\n",
      "File \u001b[1;32mc:\\Users\\hp\\AppData\\Local\\Programs\\Python\\Python310\\lib\\site-packages\\sqlalchemy\\engine\\base.py:1669\u001b[0m, in \u001b[0;36mConnection._exec_driver_sql\u001b[1;34m(self, statement, multiparams, params, execution_options, future)\u001b[0m\n\u001b[0;32m   1659\u001b[0m         (\n\u001b[0;32m   1660\u001b[0m             statement,\n\u001b[0;32m   1661\u001b[0m             distilled_params,\n\u001b[1;32m   (...)\u001b[0m\n\u001b[0;32m   1665\u001b[0m             statement, distilled_parameters, execution_options\n\u001b[0;32m   1666\u001b[0m         )\n\u001b[0;32m   1668\u001b[0m dialect \u001b[39m=\u001b[39m \u001b[39mself\u001b[39m\u001b[39m.\u001b[39mdialect\n\u001b[1;32m-> 1669\u001b[0m ret \u001b[39m=\u001b[39m \u001b[39mself\u001b[39;49m\u001b[39m.\u001b[39;49m_execute_context(\n\u001b[0;32m   1670\u001b[0m     dialect,\n\u001b[0;32m   1671\u001b[0m     dialect\u001b[39m.\u001b[39;49mexecution_ctx_cls\u001b[39m.\u001b[39;49m_init_statement,\n\u001b[0;32m   1672\u001b[0m     statement,\n\u001b[0;32m   1673\u001b[0m     distilled_parameters,\n\u001b[0;32m   1674\u001b[0m     execution_options,\n\u001b[0;32m   1675\u001b[0m     statement,\n\u001b[0;32m   1676\u001b[0m     distilled_parameters,\n\u001b[0;32m   1677\u001b[0m )\n\u001b[0;32m   1679\u001b[0m \u001b[39mif\u001b[39;00m \u001b[39mnot\u001b[39;00m future:\n\u001b[0;32m   1680\u001b[0m     \u001b[39mif\u001b[39;00m \u001b[39mself\u001b[39m\u001b[39m.\u001b[39m_has_events \u001b[39mor\u001b[39;00m \u001b[39mself\u001b[39m\u001b[39m.\u001b[39mengine\u001b[39m.\u001b[39m_has_events:\n",
      "File \u001b[1;32mc:\\Users\\hp\\AppData\\Local\\Programs\\Python\\Python310\\lib\\site-packages\\sqlalchemy\\engine\\base.py:1943\u001b[0m, in \u001b[0;36mConnection._execute_context\u001b[1;34m(self, dialect, constructor, statement, parameters, execution_options, *args, **kw)\u001b[0m\n\u001b[0;32m   1940\u001b[0m             branched\u001b[39m.\u001b[39mclose()\n\u001b[0;32m   1942\u001b[0m \u001b[39mexcept\u001b[39;00m \u001b[39mBaseException\u001b[39;00m \u001b[39mas\u001b[39;00m e:\n\u001b[1;32m-> 1943\u001b[0m     \u001b[39mself\u001b[39;49m\u001b[39m.\u001b[39;49m_handle_dbapi_exception(\n\u001b[0;32m   1944\u001b[0m         e, statement, parameters, cursor, context\n\u001b[0;32m   1945\u001b[0m     )\n\u001b[0;32m   1947\u001b[0m \u001b[39mreturn\u001b[39;00m result\n",
      "File \u001b[1;32mc:\\Users\\hp\\AppData\\Local\\Programs\\Python\\Python310\\lib\\site-packages\\sqlalchemy\\engine\\base.py:2124\u001b[0m, in \u001b[0;36mConnection._handle_dbapi_exception\u001b[1;34m(self, e, statement, parameters, cursor, context)\u001b[0m\n\u001b[0;32m   2122\u001b[0m     util\u001b[39m.\u001b[39mraise_(newraise, with_traceback\u001b[39m=\u001b[39mexc_info[\u001b[39m2\u001b[39m], from_\u001b[39m=\u001b[39me)\n\u001b[0;32m   2123\u001b[0m \u001b[39melif\u001b[39;00m should_wrap:\n\u001b[1;32m-> 2124\u001b[0m     util\u001b[39m.\u001b[39;49mraise_(\n\u001b[0;32m   2125\u001b[0m         sqlalchemy_exception, with_traceback\u001b[39m=\u001b[39;49mexc_info[\u001b[39m2\u001b[39;49m], from_\u001b[39m=\u001b[39;49me\n\u001b[0;32m   2126\u001b[0m     )\n\u001b[0;32m   2127\u001b[0m \u001b[39melse\u001b[39;00m:\n\u001b[0;32m   2128\u001b[0m     util\u001b[39m.\u001b[39mraise_(exc_info[\u001b[39m1\u001b[39m], with_traceback\u001b[39m=\u001b[39mexc_info[\u001b[39m2\u001b[39m])\n",
      "File \u001b[1;32mc:\\Users\\hp\\AppData\\Local\\Programs\\Python\\Python310\\lib\\site-packages\\sqlalchemy\\util\\compat.py:210\u001b[0m, in \u001b[0;36mraise_\u001b[1;34m(***failed resolving arguments***)\u001b[0m\n\u001b[0;32m    207\u001b[0m     exception\u001b[39m.\u001b[39m__cause__ \u001b[39m=\u001b[39m replace_context\n\u001b[0;32m    209\u001b[0m \u001b[39mtry\u001b[39;00m:\n\u001b[1;32m--> 210\u001b[0m     \u001b[39mraise\u001b[39;00m exception\n\u001b[0;32m    211\u001b[0m \u001b[39mfinally\u001b[39;00m:\n\u001b[0;32m    212\u001b[0m     \u001b[39m# credit to\u001b[39;00m\n\u001b[0;32m    213\u001b[0m     \u001b[39m# https://cosmicpercolator.com/2016/01/13/exception-leaks-in-python-2-and-3/\u001b[39;00m\n\u001b[0;32m    214\u001b[0m     \u001b[39m# as the __traceback__ object creates a cycle\u001b[39;00m\n\u001b[0;32m    215\u001b[0m     \u001b[39mdel\u001b[39;00m exception, replace_context, from_, with_traceback\n",
      "File \u001b[1;32mc:\\Users\\hp\\AppData\\Local\\Programs\\Python\\Python310\\lib\\site-packages\\sqlalchemy\\engine\\base.py:1900\u001b[0m, in \u001b[0;36mConnection._execute_context\u001b[1;34m(self, dialect, constructor, statement, parameters, execution_options, *args, **kw)\u001b[0m\n\u001b[0;32m   1898\u001b[0m                 \u001b[39mbreak\u001b[39;00m\n\u001b[0;32m   1899\u001b[0m     \u001b[39mif\u001b[39;00m \u001b[39mnot\u001b[39;00m evt_handled:\n\u001b[1;32m-> 1900\u001b[0m         \u001b[39mself\u001b[39;49m\u001b[39m.\u001b[39;49mdialect\u001b[39m.\u001b[39;49mdo_execute(\n\u001b[0;32m   1901\u001b[0m             cursor, statement, parameters, context\n\u001b[0;32m   1902\u001b[0m         )\n\u001b[0;32m   1904\u001b[0m \u001b[39mif\u001b[39;00m \u001b[39mself\u001b[39m\u001b[39m.\u001b[39m_has_events \u001b[39mor\u001b[39;00m \u001b[39mself\u001b[39m\u001b[39m.\u001b[39mengine\u001b[39m.\u001b[39m_has_events:\n\u001b[0;32m   1905\u001b[0m     \u001b[39mself\u001b[39m\u001b[39m.\u001b[39mdispatch\u001b[39m.\u001b[39mafter_cursor_execute(\n\u001b[0;32m   1906\u001b[0m         \u001b[39mself\u001b[39m,\n\u001b[0;32m   1907\u001b[0m         cursor,\n\u001b[1;32m   (...)\u001b[0m\n\u001b[0;32m   1911\u001b[0m         context\u001b[39m.\u001b[39mexecutemany,\n\u001b[0;32m   1912\u001b[0m     )\n",
      "File \u001b[1;32mc:\\Users\\hp\\AppData\\Local\\Programs\\Python\\Python310\\lib\\site-packages\\sqlalchemy\\engine\\default.py:736\u001b[0m, in \u001b[0;36mDefaultDialect.do_execute\u001b[1;34m(self, cursor, statement, parameters, context)\u001b[0m\n\u001b[0;32m    735\u001b[0m \u001b[39mdef\u001b[39;00m \u001b[39mdo_execute\u001b[39m(\u001b[39mself\u001b[39m, cursor, statement, parameters, context\u001b[39m=\u001b[39m\u001b[39mNone\u001b[39;00m):\n\u001b[1;32m--> 736\u001b[0m     cursor\u001b[39m.\u001b[39;49mexecute(statement, parameters)\n",
      "\u001b[1;31mOperationalError\u001b[0m: (sqlite3.OperationalError) near \"DATABASE\": syntax error\n[SQL: CREATE DATABASE CoinIntra]\n(Background on this error at: https://sqlalche.me/e/14/e3q8)"
     ]
    }
   ],
   "source": [
    "engine.execute('CREATE DATABASE CoinIntra')"
   ]
  },
  {
   "cell_type": "code",
   "execution_count": 12,
   "metadata": {},
   "outputs": [
    {
     "name": "stdout",
     "output_type": "stream",
     "text": [
      "Processing September for BTCUSDT...\n",
      "2022-12-08 15:43:44,358 INFO sqlalchemy.engine.Engine PRAGMA \"CoinIntra\".table_info(\"BTCUSDT\")\n",
      "2022-12-08 15:43:44,363 INFO sqlalchemy.engine.Engine [raw sql] ()\n",
      "2022-12-08 15:43:44,367 INFO sqlalchemy.engine.Engine ROLLBACK\n"
     ]
    },
    {
     "ename": "OperationalError",
     "evalue": "(sqlite3.OperationalError) unknown database \"CoinIntra\"\n[SQL: PRAGMA \"CoinIntra\".table_info(\"BTCUSDT\")]\n(Background on this error at: https://sqlalche.me/e/14/e3q8)",
     "output_type": "error",
     "traceback": [
      "\u001b[1;31m---------------------------------------------------------------------------\u001b[0m",
      "\u001b[1;31mOperationalError\u001b[0m                          Traceback (most recent call last)",
      "File \u001b[1;32mc:\\Users\\hp\\AppData\\Local\\Programs\\Python\\Python310\\lib\\site-packages\\sqlalchemy\\engine\\base.py:1900\u001b[0m, in \u001b[0;36mConnection._execute_context\u001b[1;34m(self, dialect, constructor, statement, parameters, execution_options, *args, **kw)\u001b[0m\n\u001b[0;32m   1899\u001b[0m     \u001b[39mif\u001b[39;00m \u001b[39mnot\u001b[39;00m evt_handled:\n\u001b[1;32m-> 1900\u001b[0m         \u001b[39mself\u001b[39;49m\u001b[39m.\u001b[39;49mdialect\u001b[39m.\u001b[39;49mdo_execute(\n\u001b[0;32m   1901\u001b[0m             cursor, statement, parameters, context\n\u001b[0;32m   1902\u001b[0m         )\n\u001b[0;32m   1904\u001b[0m \u001b[39mif\u001b[39;00m \u001b[39mself\u001b[39m\u001b[39m.\u001b[39m_has_events \u001b[39mor\u001b[39;00m \u001b[39mself\u001b[39m\u001b[39m.\u001b[39mengine\u001b[39m.\u001b[39m_has_events:\n",
      "File \u001b[1;32mc:\\Users\\hp\\AppData\\Local\\Programs\\Python\\Python310\\lib\\site-packages\\sqlalchemy\\engine\\default.py:736\u001b[0m, in \u001b[0;36mDefaultDialect.do_execute\u001b[1;34m(self, cursor, statement, parameters, context)\u001b[0m\n\u001b[0;32m    735\u001b[0m \u001b[39mdef\u001b[39;00m \u001b[39mdo_execute\u001b[39m(\u001b[39mself\u001b[39m, cursor, statement, parameters, context\u001b[39m=\u001b[39m\u001b[39mNone\u001b[39;00m):\n\u001b[1;32m--> 736\u001b[0m     cursor\u001b[39m.\u001b[39;49mexecute(statement, parameters)\n",
      "\u001b[1;31mOperationalError\u001b[0m: unknown database \"CoinIntra\"",
      "\nThe above exception was the direct cause of the following exception:\n",
      "\u001b[1;31mOperationalError\u001b[0m                          Traceback (most recent call last)",
      "Cell \u001b[1;32mIn[12], line 5\u001b[0m\n\u001b[0;32m      3\u001b[0m     \u001b[39mprint\u001b[39m(\u001b[39mf\u001b[39m\u001b[39m'\u001b[39m\u001b[39mProcessing \u001b[39m\u001b[39m{\u001b[39;00mdate\u001b[39m.\u001b[39mmonth_name()\u001b[39m}\u001b[39;00m\u001b[39m for \u001b[39m\u001b[39m{\u001b[39;00mcoin\u001b[39m}\u001b[39;00m\u001b[39m...\u001b[39m\u001b[39m'\u001b[39m)\n\u001b[0;32m      4\u001b[0m     df \u001b[39m=\u001b[39m getdata(coin, \u001b[39mstr\u001b[39m(date))\n\u001b[1;32m----> 5\u001b[0m     df\u001b[39m.\u001b[39;49mto_sql(coin, engine, schema \u001b[39m=\u001b[39;49m \u001b[39m'\u001b[39;49m\u001b[39mCoinIntra\u001b[39;49m\u001b[39m'\u001b[39;49m, if_exists\u001b[39m=\u001b[39;49m\u001b[39m'\u001b[39;49m\u001b[39mappend\u001b[39;49m\u001b[39m'\u001b[39;49m, index \u001b[39m=\u001b[39;49m \u001b[39mTrue\u001b[39;49;00m)\n\u001b[0;32m      6\u001b[0m     sleep(\u001b[39m60\u001b[39m)\n\u001b[0;32m      7\u001b[0m \u001b[39m# Now we have created database COINTEST, a sqllite database, on each iteration a table of each coin in the list is created.\u001b[39;00m\n",
      "File \u001b[1;32mc:\\Users\\hp\\AppData\\Local\\Programs\\Python\\Python310\\lib\\site-packages\\pandas\\core\\generic.py:2987\u001b[0m, in \u001b[0;36mNDFrame.to_sql\u001b[1;34m(self, name, con, schema, if_exists, index, index_label, chunksize, dtype, method)\u001b[0m\n\u001b[0;32m   2830\u001b[0m \u001b[39m\"\"\"\u001b[39;00m\n\u001b[0;32m   2831\u001b[0m \u001b[39mWrite records stored in a DataFrame to a SQL database.\u001b[39;00m\n\u001b[0;32m   2832\u001b[0m \n\u001b[1;32m   (...)\u001b[0m\n\u001b[0;32m   2983\u001b[0m \u001b[39m[(1,), (None,), (2,)]\u001b[39;00m\n\u001b[0;32m   2984\u001b[0m \u001b[39m\"\"\"\u001b[39;00m  \u001b[39m# noqa:E501\u001b[39;00m\n\u001b[0;32m   2985\u001b[0m \u001b[39mfrom\u001b[39;00m \u001b[39mpandas\u001b[39;00m\u001b[39m.\u001b[39;00m\u001b[39mio\u001b[39;00m \u001b[39mimport\u001b[39;00m sql\n\u001b[1;32m-> 2987\u001b[0m \u001b[39mreturn\u001b[39;00m sql\u001b[39m.\u001b[39;49mto_sql(\n\u001b[0;32m   2988\u001b[0m     \u001b[39mself\u001b[39;49m,\n\u001b[0;32m   2989\u001b[0m     name,\n\u001b[0;32m   2990\u001b[0m     con,\n\u001b[0;32m   2991\u001b[0m     schema\u001b[39m=\u001b[39;49mschema,\n\u001b[0;32m   2992\u001b[0m     if_exists\u001b[39m=\u001b[39;49mif_exists,\n\u001b[0;32m   2993\u001b[0m     index\u001b[39m=\u001b[39;49mindex,\n\u001b[0;32m   2994\u001b[0m     index_label\u001b[39m=\u001b[39;49mindex_label,\n\u001b[0;32m   2995\u001b[0m     chunksize\u001b[39m=\u001b[39;49mchunksize,\n\u001b[0;32m   2996\u001b[0m     dtype\u001b[39m=\u001b[39;49mdtype,\n\u001b[0;32m   2997\u001b[0m     method\u001b[39m=\u001b[39;49mmethod,\n\u001b[0;32m   2998\u001b[0m )\n",
      "File \u001b[1;32mc:\\Users\\hp\\AppData\\Local\\Programs\\Python\\Python310\\lib\\site-packages\\pandas\\io\\sql.py:695\u001b[0m, in \u001b[0;36mto_sql\u001b[1;34m(frame, name, con, schema, if_exists, index, index_label, chunksize, dtype, method, engine, **engine_kwargs)\u001b[0m\n\u001b[0;32m    690\u001b[0m \u001b[39melif\u001b[39;00m \u001b[39mnot\u001b[39;00m \u001b[39misinstance\u001b[39m(frame, DataFrame):\n\u001b[0;32m    691\u001b[0m     \u001b[39mraise\u001b[39;00m \u001b[39mNotImplementedError\u001b[39;00m(\n\u001b[0;32m    692\u001b[0m         \u001b[39m\"\u001b[39m\u001b[39m'\u001b[39m\u001b[39mframe\u001b[39m\u001b[39m'\u001b[39m\u001b[39m argument should be either a Series or a DataFrame\u001b[39m\u001b[39m\"\u001b[39m\n\u001b[0;32m    693\u001b[0m     )\n\u001b[1;32m--> 695\u001b[0m \u001b[39mreturn\u001b[39;00m pandas_sql\u001b[39m.\u001b[39mto_sql(\n\u001b[0;32m    696\u001b[0m     frame,\n\u001b[0;32m    697\u001b[0m     name,\n\u001b[0;32m    698\u001b[0m     if_exists\u001b[39m=\u001b[39mif_exists,\n\u001b[0;32m    699\u001b[0m     index\u001b[39m=\u001b[39mindex,\n\u001b[0;32m    700\u001b[0m     index_label\u001b[39m=\u001b[39mindex_label,\n\u001b[0;32m    701\u001b[0m     schema\u001b[39m=\u001b[39mschema,\n\u001b[0;32m    702\u001b[0m     chunksize\u001b[39m=\u001b[39mchunksize,\n\u001b[0;32m    703\u001b[0m     dtype\u001b[39m=\u001b[39mdtype,\n\u001b[0;32m    704\u001b[0m     method\u001b[39m=\u001b[39mmethod,\n\u001b[0;32m    705\u001b[0m     engine\u001b[39m=\u001b[39mengine,\n\u001b[0;32m    706\u001b[0m     \u001b[39m*\u001b[39m\u001b[39m*\u001b[39mengine_kwargs,\n\u001b[0;32m    707\u001b[0m )\n",
      "File \u001b[1;32mc:\\Users\\hp\\AppData\\Local\\Programs\\Python\\Python310\\lib\\site-packages\\pandas\\io\\sql.py:1728\u001b[0m, in \u001b[0;36mSQLDatabase.to_sql\u001b[1;34m(self, frame, name, if_exists, index, index_label, schema, chunksize, dtype, method, engine, **engine_kwargs)\u001b[0m\n\u001b[0;32m   1678\u001b[0m \u001b[39m\"\"\"\u001b[39;00m\n\u001b[0;32m   1679\u001b[0m \u001b[39mWrite records stored in a DataFrame to a SQL database.\u001b[39;00m\n\u001b[0;32m   1680\u001b[0m \n\u001b[1;32m   (...)\u001b[0m\n\u001b[0;32m   1724\u001b[0m \u001b[39m    Any additional kwargs are passed to the engine.\u001b[39;00m\n\u001b[0;32m   1725\u001b[0m \u001b[39m\"\"\"\u001b[39;00m\n\u001b[0;32m   1726\u001b[0m sql_engine \u001b[39m=\u001b[39m get_engine(engine)\n\u001b[1;32m-> 1728\u001b[0m table \u001b[39m=\u001b[39m \u001b[39mself\u001b[39;49m\u001b[39m.\u001b[39;49mprep_table(\n\u001b[0;32m   1729\u001b[0m     frame\u001b[39m=\u001b[39;49mframe,\n\u001b[0;32m   1730\u001b[0m     name\u001b[39m=\u001b[39;49mname,\n\u001b[0;32m   1731\u001b[0m     if_exists\u001b[39m=\u001b[39;49mif_exists,\n\u001b[0;32m   1732\u001b[0m     index\u001b[39m=\u001b[39;49mindex,\n\u001b[0;32m   1733\u001b[0m     index_label\u001b[39m=\u001b[39;49mindex_label,\n\u001b[0;32m   1734\u001b[0m     schema\u001b[39m=\u001b[39;49mschema,\n\u001b[0;32m   1735\u001b[0m     dtype\u001b[39m=\u001b[39;49mdtype,\n\u001b[0;32m   1736\u001b[0m )\n\u001b[0;32m   1738\u001b[0m total_inserted \u001b[39m=\u001b[39m sql_engine\u001b[39m.\u001b[39minsert_records(\n\u001b[0;32m   1739\u001b[0m     table\u001b[39m=\u001b[39mtable,\n\u001b[0;32m   1740\u001b[0m     con\u001b[39m=\u001b[39m\u001b[39mself\u001b[39m\u001b[39m.\u001b[39mconnectable,\n\u001b[1;32m   (...)\u001b[0m\n\u001b[0;32m   1747\u001b[0m     \u001b[39m*\u001b[39m\u001b[39m*\u001b[39mengine_kwargs,\n\u001b[0;32m   1748\u001b[0m )\n\u001b[0;32m   1750\u001b[0m \u001b[39mself\u001b[39m\u001b[39m.\u001b[39mcheck_case_sensitive(name\u001b[39m=\u001b[39mname, schema\u001b[39m=\u001b[39mschema)\n",
      "File \u001b[1;32mc:\\Users\\hp\\AppData\\Local\\Programs\\Python\\Python310\\lib\\site-packages\\pandas\\io\\sql.py:1631\u001b[0m, in \u001b[0;36mSQLDatabase.prep_table\u001b[1;34m(self, frame, name, if_exists, index, index_label, schema, dtype)\u001b[0m\n\u001b[0;32m   1619\u001b[0m             \u001b[39mraise\u001b[39;00m \u001b[39mValueError\u001b[39;00m(\u001b[39mf\u001b[39m\u001b[39m\"\u001b[39m\u001b[39mThe type of \u001b[39m\u001b[39m{\u001b[39;00mcol\u001b[39m}\u001b[39;00m\u001b[39m is not a SQLAlchemy type\u001b[39m\u001b[39m\"\u001b[39m)\n\u001b[0;32m   1621\u001b[0m table \u001b[39m=\u001b[39m SQLTable(\n\u001b[0;32m   1622\u001b[0m     name,\n\u001b[0;32m   1623\u001b[0m     \u001b[39mself\u001b[39m,\n\u001b[1;32m   (...)\u001b[0m\n\u001b[0;32m   1629\u001b[0m     dtype\u001b[39m=\u001b[39mdtype,\n\u001b[0;32m   1630\u001b[0m )\n\u001b[1;32m-> 1631\u001b[0m table\u001b[39m.\u001b[39;49mcreate()\n\u001b[0;32m   1632\u001b[0m \u001b[39mreturn\u001b[39;00m table\n",
      "File \u001b[1;32mc:\\Users\\hp\\AppData\\Local\\Programs\\Python\\Python310\\lib\\site-packages\\pandas\\io\\sql.py:827\u001b[0m, in \u001b[0;36mSQLTable.create\u001b[1;34m(self)\u001b[0m\n\u001b[0;32m    826\u001b[0m \u001b[39mdef\u001b[39;00m \u001b[39mcreate\u001b[39m(\u001b[39mself\u001b[39m) \u001b[39m-\u001b[39m\u001b[39m>\u001b[39m \u001b[39mNone\u001b[39;00m:\n\u001b[1;32m--> 827\u001b[0m     \u001b[39mif\u001b[39;00m \u001b[39mself\u001b[39;49m\u001b[39m.\u001b[39;49mexists():\n\u001b[0;32m    828\u001b[0m         \u001b[39mif\u001b[39;00m \u001b[39mself\u001b[39m\u001b[39m.\u001b[39mif_exists \u001b[39m==\u001b[39m \u001b[39m\"\u001b[39m\u001b[39mfail\u001b[39m\u001b[39m\"\u001b[39m:\n\u001b[0;32m    829\u001b[0m             \u001b[39mraise\u001b[39;00m \u001b[39mValueError\u001b[39;00m(\u001b[39mf\u001b[39m\u001b[39m\"\u001b[39m\u001b[39mTable \u001b[39m\u001b[39m'\u001b[39m\u001b[39m{\u001b[39;00m\u001b[39mself\u001b[39m\u001b[39m.\u001b[39mname\u001b[39m}\u001b[39;00m\u001b[39m'\u001b[39m\u001b[39m already exists.\u001b[39m\u001b[39m\"\u001b[39m)\n",
      "File \u001b[1;32mc:\\Users\\hp\\AppData\\Local\\Programs\\Python\\Python310\\lib\\site-packages\\pandas\\io\\sql.py:814\u001b[0m, in \u001b[0;36mSQLTable.exists\u001b[1;34m(self)\u001b[0m\n\u001b[0;32m    813\u001b[0m \u001b[39mdef\u001b[39;00m \u001b[39mexists\u001b[39m(\u001b[39mself\u001b[39m):\n\u001b[1;32m--> 814\u001b[0m     \u001b[39mreturn\u001b[39;00m \u001b[39mself\u001b[39;49m\u001b[39m.\u001b[39;49mpd_sql\u001b[39m.\u001b[39;49mhas_table(\u001b[39mself\u001b[39;49m\u001b[39m.\u001b[39;49mname, \u001b[39mself\u001b[39;49m\u001b[39m.\u001b[39;49mschema)\n",
      "File \u001b[1;32mc:\\Users\\hp\\AppData\\Local\\Programs\\Python\\Python310\\lib\\site-packages\\pandas\\io\\sql.py:1761\u001b[0m, in \u001b[0;36mSQLDatabase.has_table\u001b[1;34m(self, name, schema)\u001b[0m\n\u001b[0;32m   1758\u001b[0m \u001b[39mfrom\u001b[39;00m \u001b[39msqlalchemy\u001b[39;00m \u001b[39mimport\u001b[39;00m inspect \u001b[39mas\u001b[39;00m sqlalchemy_inspect\n\u001b[0;32m   1760\u001b[0m insp \u001b[39m=\u001b[39m sqlalchemy_inspect(\u001b[39mself\u001b[39m\u001b[39m.\u001b[39mconnectable)\n\u001b[1;32m-> 1761\u001b[0m \u001b[39mreturn\u001b[39;00m insp\u001b[39m.\u001b[39;49mhas_table(name, schema \u001b[39mor\u001b[39;49;00m \u001b[39mself\u001b[39;49m\u001b[39m.\u001b[39;49mmeta\u001b[39m.\u001b[39;49mschema)\n",
      "File \u001b[1;32mc:\\Users\\hp\\AppData\\Local\\Programs\\Python\\Python310\\lib\\site-packages\\sqlalchemy\\engine\\reflection.py:283\u001b[0m, in \u001b[0;36mInspector.has_table\u001b[1;34m(self, table_name, schema)\u001b[0m\n\u001b[0;32m    281\u001b[0m \u001b[39m# TODO: info_cache?\u001b[39;00m\n\u001b[0;32m    282\u001b[0m \u001b[39mwith\u001b[39;00m \u001b[39mself\u001b[39m\u001b[39m.\u001b[39m_operation_context() \u001b[39mas\u001b[39;00m conn:\n\u001b[1;32m--> 283\u001b[0m     \u001b[39mreturn\u001b[39;00m \u001b[39mself\u001b[39;49m\u001b[39m.\u001b[39;49mdialect\u001b[39m.\u001b[39;49mhas_table(conn, table_name, schema)\n",
      "File \u001b[1;32mc:\\Users\\hp\\AppData\\Local\\Programs\\Python\\Python310\\lib\\site-packages\\sqlalchemy\\dialects\\sqlite\\base.py:2018\u001b[0m, in \u001b[0;36mSQLiteDialect.has_table\u001b[1;34m(self, connection, table_name, schema)\u001b[0m\n\u001b[0;32m   2015\u001b[0m \u001b[39mdef\u001b[39;00m \u001b[39mhas_table\u001b[39m(\u001b[39mself\u001b[39m, connection, table_name, schema\u001b[39m=\u001b[39m\u001b[39mNone\u001b[39;00m):\n\u001b[0;32m   2016\u001b[0m     \u001b[39mself\u001b[39m\u001b[39m.\u001b[39m_ensure_has_table_connection(connection)\n\u001b[1;32m-> 2018\u001b[0m     info \u001b[39m=\u001b[39m \u001b[39mself\u001b[39;49m\u001b[39m.\u001b[39;49m_get_table_pragma(\n\u001b[0;32m   2019\u001b[0m         connection, \u001b[39m\"\u001b[39;49m\u001b[39mtable_info\u001b[39;49m\u001b[39m\"\u001b[39;49m, table_name, schema\u001b[39m=\u001b[39;49mschema\n\u001b[0;32m   2020\u001b[0m     )\n\u001b[0;32m   2021\u001b[0m     \u001b[39mreturn\u001b[39;00m \u001b[39mbool\u001b[39m(info)\n",
      "File \u001b[1;32mc:\\Users\\hp\\AppData\\Local\\Programs\\Python\\Python310\\lib\\site-packages\\sqlalchemy\\dialects\\sqlite\\base.py:2545\u001b[0m, in \u001b[0;36mSQLiteDialect._get_table_pragma\u001b[1;34m(self, connection, pragma, table_name, schema)\u001b[0m\n\u001b[0;32m   2543\u001b[0m \u001b[39mfor\u001b[39;00m statement \u001b[39min\u001b[39;00m statements:\n\u001b[0;32m   2544\u001b[0m     statement \u001b[39m=\u001b[39m \u001b[39m\"\u001b[39m\u001b[39m%s\u001b[39;00m\u001b[39m%s\u001b[39;00m\u001b[39m(\u001b[39m\u001b[39m%s\u001b[39;00m\u001b[39m)\u001b[39m\u001b[39m\"\u001b[39m \u001b[39m%\u001b[39m (statement, pragma, qtable)\n\u001b[1;32m-> 2545\u001b[0m     cursor \u001b[39m=\u001b[39m connection\u001b[39m.\u001b[39;49mexec_driver_sql(statement)\n\u001b[0;32m   2546\u001b[0m     \u001b[39mif\u001b[39;00m \u001b[39mnot\u001b[39;00m cursor\u001b[39m.\u001b[39m_soft_closed:\n\u001b[0;32m   2547\u001b[0m         \u001b[39m# work around SQLite issue whereby cursor.description\u001b[39;00m\n\u001b[0;32m   2548\u001b[0m         \u001b[39m# is blank when PRAGMA returns no rows:\u001b[39;00m\n\u001b[0;32m   2549\u001b[0m         \u001b[39m# https://www.sqlite.org/cvstrac/tktview?tn=1884\u001b[39;00m\n\u001b[0;32m   2550\u001b[0m         result \u001b[39m=\u001b[39m cursor\u001b[39m.\u001b[39mfetchall()\n",
      "File \u001b[1;32mc:\\Users\\hp\\AppData\\Local\\Programs\\Python\\Python310\\lib\\site-packages\\sqlalchemy\\engine\\base.py:1760\u001b[0m, in \u001b[0;36mConnection.exec_driver_sql\u001b[1;34m(self, statement, parameters, execution_options)\u001b[0m\n\u001b[0;32m   1710\u001b[0m \u001b[39mr\u001b[39m\u001b[39m\"\"\"Executes a SQL statement construct and returns a\u001b[39;00m\n\u001b[0;32m   1711\u001b[0m \u001b[39m:class:`_engine.CursorResult`.\u001b[39;00m\n\u001b[0;32m   1712\u001b[0m \n\u001b[1;32m   (...)\u001b[0m\n\u001b[0;32m   1755\u001b[0m \n\u001b[0;32m   1756\u001b[0m \u001b[39m\"\"\"\u001b[39;00m\n\u001b[0;32m   1758\u001b[0m args_10style, kwargs_10style \u001b[39m=\u001b[39m _distill_params_20(parameters)\n\u001b[1;32m-> 1760\u001b[0m \u001b[39mreturn\u001b[39;00m \u001b[39mself\u001b[39;49m\u001b[39m.\u001b[39;49m_exec_driver_sql(\n\u001b[0;32m   1761\u001b[0m     statement,\n\u001b[0;32m   1762\u001b[0m     args_10style,\n\u001b[0;32m   1763\u001b[0m     kwargs_10style,\n\u001b[0;32m   1764\u001b[0m     execution_options,\n\u001b[0;32m   1765\u001b[0m     future\u001b[39m=\u001b[39;49m\u001b[39mTrue\u001b[39;49;00m,\n\u001b[0;32m   1766\u001b[0m )\n",
      "File \u001b[1;32mc:\\Users\\hp\\AppData\\Local\\Programs\\Python\\Python310\\lib\\site-packages\\sqlalchemy\\engine\\base.py:1669\u001b[0m, in \u001b[0;36mConnection._exec_driver_sql\u001b[1;34m(self, statement, multiparams, params, execution_options, future)\u001b[0m\n\u001b[0;32m   1659\u001b[0m         (\n\u001b[0;32m   1660\u001b[0m             statement,\n\u001b[0;32m   1661\u001b[0m             distilled_params,\n\u001b[1;32m   (...)\u001b[0m\n\u001b[0;32m   1665\u001b[0m             statement, distilled_parameters, execution_options\n\u001b[0;32m   1666\u001b[0m         )\n\u001b[0;32m   1668\u001b[0m dialect \u001b[39m=\u001b[39m \u001b[39mself\u001b[39m\u001b[39m.\u001b[39mdialect\n\u001b[1;32m-> 1669\u001b[0m ret \u001b[39m=\u001b[39m \u001b[39mself\u001b[39;49m\u001b[39m.\u001b[39;49m_execute_context(\n\u001b[0;32m   1670\u001b[0m     dialect,\n\u001b[0;32m   1671\u001b[0m     dialect\u001b[39m.\u001b[39;49mexecution_ctx_cls\u001b[39m.\u001b[39;49m_init_statement,\n\u001b[0;32m   1672\u001b[0m     statement,\n\u001b[0;32m   1673\u001b[0m     distilled_parameters,\n\u001b[0;32m   1674\u001b[0m     execution_options,\n\u001b[0;32m   1675\u001b[0m     statement,\n\u001b[0;32m   1676\u001b[0m     distilled_parameters,\n\u001b[0;32m   1677\u001b[0m )\n\u001b[0;32m   1679\u001b[0m \u001b[39mif\u001b[39;00m \u001b[39mnot\u001b[39;00m future:\n\u001b[0;32m   1680\u001b[0m     \u001b[39mif\u001b[39;00m \u001b[39mself\u001b[39m\u001b[39m.\u001b[39m_has_events \u001b[39mor\u001b[39;00m \u001b[39mself\u001b[39m\u001b[39m.\u001b[39mengine\u001b[39m.\u001b[39m_has_events:\n",
      "File \u001b[1;32mc:\\Users\\hp\\AppData\\Local\\Programs\\Python\\Python310\\lib\\site-packages\\sqlalchemy\\engine\\base.py:1943\u001b[0m, in \u001b[0;36mConnection._execute_context\u001b[1;34m(self, dialect, constructor, statement, parameters, execution_options, *args, **kw)\u001b[0m\n\u001b[0;32m   1940\u001b[0m             branched\u001b[39m.\u001b[39mclose()\n\u001b[0;32m   1942\u001b[0m \u001b[39mexcept\u001b[39;00m \u001b[39mBaseException\u001b[39;00m \u001b[39mas\u001b[39;00m e:\n\u001b[1;32m-> 1943\u001b[0m     \u001b[39mself\u001b[39;49m\u001b[39m.\u001b[39;49m_handle_dbapi_exception(\n\u001b[0;32m   1944\u001b[0m         e, statement, parameters, cursor, context\n\u001b[0;32m   1945\u001b[0m     )\n\u001b[0;32m   1947\u001b[0m \u001b[39mreturn\u001b[39;00m result\n",
      "File \u001b[1;32mc:\\Users\\hp\\AppData\\Local\\Programs\\Python\\Python310\\lib\\site-packages\\sqlalchemy\\engine\\base.py:2124\u001b[0m, in \u001b[0;36mConnection._handle_dbapi_exception\u001b[1;34m(self, e, statement, parameters, cursor, context)\u001b[0m\n\u001b[0;32m   2122\u001b[0m     util\u001b[39m.\u001b[39mraise_(newraise, with_traceback\u001b[39m=\u001b[39mexc_info[\u001b[39m2\u001b[39m], from_\u001b[39m=\u001b[39me)\n\u001b[0;32m   2123\u001b[0m \u001b[39melif\u001b[39;00m should_wrap:\n\u001b[1;32m-> 2124\u001b[0m     util\u001b[39m.\u001b[39;49mraise_(\n\u001b[0;32m   2125\u001b[0m         sqlalchemy_exception, with_traceback\u001b[39m=\u001b[39;49mexc_info[\u001b[39m2\u001b[39;49m], from_\u001b[39m=\u001b[39;49me\n\u001b[0;32m   2126\u001b[0m     )\n\u001b[0;32m   2127\u001b[0m \u001b[39melse\u001b[39;00m:\n\u001b[0;32m   2128\u001b[0m     util\u001b[39m.\u001b[39mraise_(exc_info[\u001b[39m1\u001b[39m], with_traceback\u001b[39m=\u001b[39mexc_info[\u001b[39m2\u001b[39m])\n",
      "File \u001b[1;32mc:\\Users\\hp\\AppData\\Local\\Programs\\Python\\Python310\\lib\\site-packages\\sqlalchemy\\util\\compat.py:210\u001b[0m, in \u001b[0;36mraise_\u001b[1;34m(***failed resolving arguments***)\u001b[0m\n\u001b[0;32m    207\u001b[0m     exception\u001b[39m.\u001b[39m__cause__ \u001b[39m=\u001b[39m replace_context\n\u001b[0;32m    209\u001b[0m \u001b[39mtry\u001b[39;00m:\n\u001b[1;32m--> 210\u001b[0m     \u001b[39mraise\u001b[39;00m exception\n\u001b[0;32m    211\u001b[0m \u001b[39mfinally\u001b[39;00m:\n\u001b[0;32m    212\u001b[0m     \u001b[39m# credit to\u001b[39;00m\n\u001b[0;32m    213\u001b[0m     \u001b[39m# https://cosmicpercolator.com/2016/01/13/exception-leaks-in-python-2-and-3/\u001b[39;00m\n\u001b[0;32m    214\u001b[0m     \u001b[39m# as the __traceback__ object creates a cycle\u001b[39;00m\n\u001b[0;32m    215\u001b[0m     \u001b[39mdel\u001b[39;00m exception, replace_context, from_, with_traceback\n",
      "File \u001b[1;32mc:\\Users\\hp\\AppData\\Local\\Programs\\Python\\Python310\\lib\\site-packages\\sqlalchemy\\engine\\base.py:1900\u001b[0m, in \u001b[0;36mConnection._execute_context\u001b[1;34m(self, dialect, constructor, statement, parameters, execution_options, *args, **kw)\u001b[0m\n\u001b[0;32m   1898\u001b[0m                 \u001b[39mbreak\u001b[39;00m\n\u001b[0;32m   1899\u001b[0m     \u001b[39mif\u001b[39;00m \u001b[39mnot\u001b[39;00m evt_handled:\n\u001b[1;32m-> 1900\u001b[0m         \u001b[39mself\u001b[39;49m\u001b[39m.\u001b[39;49mdialect\u001b[39m.\u001b[39;49mdo_execute(\n\u001b[0;32m   1901\u001b[0m             cursor, statement, parameters, context\n\u001b[0;32m   1902\u001b[0m         )\n\u001b[0;32m   1904\u001b[0m \u001b[39mif\u001b[39;00m \u001b[39mself\u001b[39m\u001b[39m.\u001b[39m_has_events \u001b[39mor\u001b[39;00m \u001b[39mself\u001b[39m\u001b[39m.\u001b[39mengine\u001b[39m.\u001b[39m_has_events:\n\u001b[0;32m   1905\u001b[0m     \u001b[39mself\u001b[39m\u001b[39m.\u001b[39mdispatch\u001b[39m.\u001b[39mafter_cursor_execute(\n\u001b[0;32m   1906\u001b[0m         \u001b[39mself\u001b[39m,\n\u001b[0;32m   1907\u001b[0m         cursor,\n\u001b[1;32m   (...)\u001b[0m\n\u001b[0;32m   1911\u001b[0m         context\u001b[39m.\u001b[39mexecutemany,\n\u001b[0;32m   1912\u001b[0m     )\n",
      "File \u001b[1;32mc:\\Users\\hp\\AppData\\Local\\Programs\\Python\\Python310\\lib\\site-packages\\sqlalchemy\\engine\\default.py:736\u001b[0m, in \u001b[0;36mDefaultDialect.do_execute\u001b[1;34m(self, cursor, statement, parameters, context)\u001b[0m\n\u001b[0;32m    735\u001b[0m \u001b[39mdef\u001b[39;00m \u001b[39mdo_execute\u001b[39m(\u001b[39mself\u001b[39m, cursor, statement, parameters, context\u001b[39m=\u001b[39m\u001b[39mNone\u001b[39;00m):\n\u001b[1;32m--> 736\u001b[0m     cursor\u001b[39m.\u001b[39;49mexecute(statement, parameters)\n",
      "\u001b[1;31mOperationalError\u001b[0m: (sqlite3.OperationalError) unknown database \"CoinIntra\"\n[SQL: PRAGMA \"CoinIntra\".table_info(\"BTCUSDT\")]\n(Background on this error at: https://sqlalche.me/e/14/e3q8)"
     ]
    }
   ],
   "source": [
    "for coin in coins:\n",
    "    for date in daterange:\n",
    "        print(f'Processing {date.month_name()} for {coin}...')\n",
    "        df = getdata(coin, str(date))\n",
    "        df.to_sql(coin, engine, schema = 'CoinIntra', if_exists='append', index = True)\n",
    "        sleep(60)\n",
    "    # Now we have created database COINTEST, a sqllite database, on each iteration a table of each coin in the list is created.\n",
    "    print(f'finished fetching {coin} data')\n"
   ]
  }
 ],
 "metadata": {
  "kernelspec": {
   "display_name": "Python 3.10.0 64-bit",
   "language": "python",
   "name": "python3"
  },
  "language_info": {
   "codemirror_mode": {
    "name": "ipython",
    "version": 3
   },
   "file_extension": ".py",
   "mimetype": "text/x-python",
   "name": "python",
   "nbconvert_exporter": "python",
   "pygments_lexer": "ipython3",
   "version": "3.10.0 (tags/v3.10.0:b494f59, Oct  4 2021, 19:00:18) [MSC v.1929 64 bit (AMD64)]"
  },
  "orig_nbformat": 4,
  "vscode": {
   "interpreter": {
    "hash": "63963b3f4c440940f0b94a3100916033a226cb4f45979123153792d60aa56d6a"
   }
  }
 },
 "nbformat": 4,
 "nbformat_minor": 2
}
